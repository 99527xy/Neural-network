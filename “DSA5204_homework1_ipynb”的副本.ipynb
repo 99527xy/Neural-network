{
  "cells": [
    {
      "cell_type": "markdown",
      "metadata": {
        "id": "view-in-github",
        "colab_type": "text"
      },
      "source": [
        "<a href=\"https://colab.research.google.com/github/99527xy/neural-network/blob/main/%E2%80%9CDSA5204_homework1_ipynb%E2%80%9D%E7%9A%84%E5%89%AF%E6%9C%AC.ipynb\" target=\"_parent\"><img src=\"https://colab.research.google.com/assets/colab-badge.svg\" alt=\"Open In Colab\"/></a>"
      ]
    },
    {
      "cell_type": "markdown",
      "metadata": {
        "id": "v8_bnSoVgmVs"
      },
      "source": [
        "# Preface\n",
        "\n",
        "Objectives:\n",
        "1. Learn to use the `keras` API\n",
        "2. Explore how performance of fully connected neural networks depend on its hyper-parameters\n",
        "3. Explore the effect of learning rate and batch size on training and testing performance\n",
        "\n",
        "Due: 4 Feb 2022"
      ]
    },
    {
      "cell_type": "code",
      "execution_count": null,
      "metadata": {
        "id": "kWdaPYMegmVv"
      },
      "outputs": [],
      "source": [
        "import tensorflow as tf\n",
        "import seaborn as sns\n",
        "import matplotlib.pyplot as plt\n",
        "import pandas as pd\n",
        "import numpy as np\n",
        "sns.set(font_scale=1.5)"
      ]
    },
    {
      "cell_type": "markdown",
      "metadata": {
        "id": "WcjTFibKgmVw"
      },
      "source": [
        "# The Fashion MNIST Dataset\n",
        "\n",
        "As mentioned in class the saying,\n",
        "> *If you model works for MNIST, it may not work for anything else, but if it doesn't work for MNIST, it won't work for anything else*\n",
        "\n",
        "Here in this notebook you will go beyond the MNIST dataset, albeit only a little bit. We will use the [Fashion MNIST](https://github.com/zalandoresearch/fashion-mnist) dataset, which is designed to replace MNIST as the new minimal dataset to test vision tasks. \n",
        "\n",
        "It is a dataset of Zalando's article images—consisting of a training set of 60,000 examples and a test set of 10,000 examples. Each example is a 28x28 grayscale image, associated with a label from 10 classes. Thus, it is almost exactly like the MNIST dataset for digit recognition, but the classification problem is generally harder.\n",
        "\n",
        "\n",
        "Here are some example images:\n",
        "![Fashion MNIST](https://markusthill.github.io/images/2017-10-12-zalandos-fashion-mnist-dataset/zalando10x10.jpeg)"
      ]
    },
    {
      "cell_type": "markdown",
      "metadata": {
        "id": "Nn1W7e76gmVx"
      },
      "source": [
        "# Importing the Dataset\n",
        "\n",
        "Just like MNIST, this dataset is found in the `tf.keras.datasets` module."
      ]
    },
    {
      "cell_type": "code",
      "execution_count": null,
      "metadata": {
        "id": "JnRM5zeugmVx"
      },
      "outputs": [],
      "source": [
        "(x_train, y_train), (x_test, y_test) = tf.keras.datasets.fashion_mnist.load_data()"
      ]
    },
    {
      "cell_type": "markdown",
      "metadata": {
        "id": "X-wHNOssgmVx"
      },
      "source": [
        "The following is a dictionary of labels that will map the y_train/y_test labels into words"
      ]
    },
    {
      "cell_type": "code",
      "execution_count": null,
      "metadata": {
        "id": "tQMqNziCgmVy"
      },
      "outputs": [],
      "source": [
        "label_dict = {\n",
        "    0: 'T-shirt/top',\n",
        "    1: 'Trouser',\n",
        "    2: 'Pullover',\n",
        "    3: 'Dress',\n",
        "    4: 'Coat',\n",
        "    5: 'Sandal',\n",
        "    6: 'Shirt',\n",
        "    7: 'Sneaker',\n",
        "    8: 'Bag',\n",
        "    9: 'Ankle boot',\n",
        "}\n",
        "labels_train = [label_dict[u] for u in y_train]\n",
        "labels_test = [label_dict[u] for u in y_test]"
      ]
    },
    {
      "cell_type": "code",
      "source": [
        "print(labels_train[0])\n",
        "print(y_train[0])\n",
        "print(x_train.shape)\n",
        "print(y_train.shape)\n",
        "print(x_test.shape)\n",
        "print(y_test.shape)"
      ],
      "metadata": {
        "id": "fsCLBj8Zhpxn",
        "outputId": "14786774-0f9d-418e-8b45-de49d2e61499",
        "colab": {
          "base_uri": "https://localhost:8080/"
        }
      },
      "execution_count": null,
      "outputs": [
        {
          "output_type": "stream",
          "name": "stdout",
          "text": [
            "Ankle boot\n",
            "9\n",
            "(60000, 28, 28)\n",
            "(60000,)\n",
            "(10000, 28, 28)\n",
            "(10000,)\n"
          ]
        }
      ]
    },
    {
      "cell_type": "code",
      "execution_count": null,
      "metadata": {
        "id": "PeBNyEekgmVy",
        "outputId": "0bed0c0d-404e-4009-983a-b752b6e57711",
        "colab": {
          "base_uri": "https://localhost:8080/",
          "height": 317
        }
      },
      "outputs": [
        {
          "output_type": "execute_result",
          "data": {
            "text/plain": [
              "Text(0.5, 1.0, 'Label = Ankle boot')"
            ]
          },
          "metadata": {},
          "execution_count": 23
        },
        {
          "output_type": "display_data",
          "data": {
            "text/plain": [
              "<Figure size 432x288 with 2 Axes>"
            ],
            "image/png": "[encoded data removed]"
          },
          "metadata": {
            "needs_background": "light"
          }
        }
      ],
      "source": [
        "ax = sns.heatmap(x_train[0], cmap='Greys')\n",
        "ax.set_title(f'Label = {labels_train[0]}')"
      ]
    },
    {
      "cell_type": "markdown",
      "metadata": {
        "id": "TcJtSQ-DgmVz"
      },
      "source": [
        "# Task 1: Build a Shallow NN for Classification\n",
        "\n",
        "Build and train a shallow (one-hidden-layer) neural network with 128 hidden nodes to classify these images. Remember to perform appropriate preprocessing steps, such as normalization and one-hot representations.\n",
        "\n",
        "Evaluate carefully the performance of your training and the final model's performance. Discuss any interesting phenomena you discover."
      ]
    },
    {
      "cell_type": "code",
      "source": [
        "x_train = x_train.reshape(-1,784)/255.0\n",
        "x_test = x_test.reshape(-1,784)/255.0\n",
        "print(y_train[0])"
      ],
      "metadata": {
        "id": "jqxvnCwQmEC1",
        "outputId": "1a8c1be2-0bfd-46df-bd41-d6a414c51adf",
        "colab": {
          "base_uri": "https://localhost:8080/"
        }
      },
      "execution_count": null,
      "outputs": [
        {
          "output_type": "stream",
          "name": "stdout",
          "text": [
            "9\n"
          ]
        }
      ]
    },
    {
      "cell_type": "markdown",
      "source": [
        "Convert y_train to ont-hot representation\n"
      ],
      "metadata": {
        "id": "ev2QPq0NmqjM"
      }
    },
    {
      "cell_type": "code",
      "source": [
        "y_train = tf.keras.utils.to_categorical(y_train)\n",
        "y_test = tf.keras.utils.to_categorical(y_test)"
      ],
      "metadata": {
        "id": "z6SdtspZm6d0"
      },
      "execution_count": null,
      "outputs": []
    },
    {
      "cell_type": "code",
      "source": [
        "print(y_train[0])\n",
        "y_train.shape"
      ],
      "metadata": {
        "id": "jEjfWQhPnvcl",
        "outputId": "9607f5cc-6f0a-4807-e03c-430fe0aedb37",
        "colab": {
          "base_uri": "https://localhost:8080/"
        }
      },
      "execution_count": null,
      "outputs": [
        {
          "output_type": "stream",
          "name": "stdout",
          "text": [
            "[0. 0. 0. 0. 0. 0. 0. 0. 0. 1.]\n"
          ]
        },
        {
          "output_type": "execute_result",
          "data": {
            "text/plain": [
              "(60000, 10)"
            ]
          },
          "metadata": {},
          "execution_count": 26
        }
      ]
    },
    {
      "cell_type": "markdown",
      "source": [
        "Building a simple network"
      ],
      "metadata": {
        "id": "RAz9DVoIoSZ9"
      }
    },
    {
      "cell_type": "code",
      "source": [
        "from tensorflow.keras import Sequential"
      ],
      "metadata": {
        "id": "TdzyIRMAoNFz"
      },
      "execution_count": null,
      "outputs": []
    },
    {
      "cell_type": "code",
      "source": [
        "model = Sequential()"
      ],
      "metadata": {
        "id": "Eh1FNL6woeGk"
      },
      "execution_count": null,
      "outputs": []
    },
    {
      "cell_type": "code",
      "source": [
        "from tensorflow.keras.layers import Dense"
      ],
      "metadata": {
        "id": "gZvttZ_GojVU"
      },
      "execution_count": null,
      "outputs": []
    },
    {
      "cell_type": "code",
      "source": [
        "model.add(Dense(units=128,activation='relu'))\n",
        "model.add(Dense(units=10,activation='softmax'))"
      ],
      "metadata": {
        "id": "baXkS7GsomJk"
      },
      "execution_count": null,
      "outputs": []
    },
    {
      "cell_type": "markdown",
      "source": [
        "Compiling and Training models"
      ],
      "metadata": {
        "id": "sa0w0B-Wo-_s"
      }
    },
    {
      "cell_type": "code",
      "source": [
        "from tensorflow.keras.optimizers import SGD"
      ],
      "metadata": {
        "id": "5KWgwuDUo-bU"
      },
      "execution_count": null,
      "outputs": []
    },
    {
      "cell_type": "code",
      "source": [
        "model.compile(loss='categorical_crossentropy', optimizer=SGD(learning_rate=0.25), metrics=['accuracy'])"
      ],
      "metadata": {
        "id": "RhHJUf1npLLz"
      },
      "execution_count": null,
      "outputs": []
    },
    {
      "cell_type": "code",
      "source": [
        "history = model.fit(x=x_train,\n",
        "                    y=y_train,\n",
        "                    epochs=200,\n",
        "                    batch_size=x_train.shape[0],\n",
        "                    validation_data=(x_test, y_test))"
      ],
      "metadata": {
        "id": "BhHdPpD6paod",
        "outputId": "642c530e-8fc9-4fcc-b04c-914fd59c1f5f",
        "colab": {
          "base_uri": "https://localhost:8080/"
        }
      },
      "execution_count": null,
      "outputs": [
        {
          "output_type": "stream",
          "name": "stdout",
          "text": [
            "Epoch 1/200\n",
            "1/1 [==============================] - 1s 1s/step - loss: 2.3734 - accuracy: 0.0645 - val_loss: 1.8545 - val_accuracy: 0.2781\n",
            "Epoch 2/200\n",
            "1/1 [==============================] - 1s 621ms/step - loss: 1.8511 - accuracy: 0.2817 - val_loss: 1.8201 - val_accuracy: 0.4588\n",
            "Epoch 3/200\n",
            "1/1 [==============================] - 1s 683ms/step - loss: 1.8133 - accuracy: 0.4612 - val_loss: 1.6720 - val_accuracy: 0.4188\n",
            "Epoch 4/200\n",
            "1/1 [==============================] - 1s 602ms/step - loss: 1.6649 - accuracy: 0.4282 - val_loss: 1.5428 - val_accuracy: 0.5189\n",
            "Epoch 5/200\n",
            "1/1 [==============================] - 1s 622ms/step - loss: 1.5351 - accuracy: 0.5224 - val_loss: 1.3798 - val_accuracy: 0.5271\n",
            "Epoch 6/200\n",
            "1/1 [==============================] - 1s 619ms/step - loss: 1.3732 - accuracy: 0.5378 - val_loss: 1.3967 - val_accuracy: 0.5172\n",
            "Epoch 7/200\n",
            "1/1 [==============================] - 1s 637ms/step - loss: 1.3839 - accuracy: 0.5235 - val_loss: 1.5683 - val_accuracy: 0.4795\n",
            "Epoch 8/200\n",
            "1/1 [==============================] - 1s 610ms/step - loss: 1.5590 - accuracy: 0.4831 - val_loss: 1.4860 - val_accuracy: 0.4746\n",
            "Epoch 9/200\n",
            "1/1 [==============================] - 1s 610ms/step - loss: 1.4761 - accuracy: 0.4873 - val_loss: 1.3632 - val_accuracy: 0.6108\n",
            "Epoch 10/200\n",
            "1/1 [==============================] - 1s 608ms/step - loss: 1.3497 - accuracy: 0.6178 - val_loss: 1.0992 - val_accuracy: 0.6481\n",
            "Epoch 11/200\n",
            "1/1 [==============================] - 1s 622ms/step - loss: 1.0909 - accuracy: 0.6563 - val_loss: 1.0432 - val_accuracy: 0.6629\n",
            "Epoch 12/200\n",
            "1/1 [==============================] - 1s 612ms/step - loss: 1.0311 - accuracy: 0.6703 - val_loss: 1.0674 - val_accuracy: 0.6090\n",
            "Epoch 13/200\n",
            "1/1 [==============================] - 1s 636ms/step - loss: 1.0569 - accuracy: 0.6153 - val_loss: 1.2672 - val_accuracy: 0.5863\n",
            "Epoch 14/200\n",
            "1/1 [==============================] - 1s 617ms/step - loss: 1.2517 - accuracy: 0.5921 - val_loss: 1.1217 - val_accuracy: 0.5914\n",
            "Epoch 15/200\n",
            "1/1 [==============================] - 1s 606ms/step - loss: 1.1117 - accuracy: 0.5974 - val_loss: 1.1231 - val_accuracy: 0.6001\n",
            "Epoch 16/200\n",
            "1/1 [==============================] - 1s 608ms/step - loss: 1.1074 - accuracy: 0.6048 - val_loss: 1.0090 - val_accuracy: 0.6543\n",
            "Epoch 17/200\n",
            "1/1 [==============================] - 1s 607ms/step - loss: 0.9973 - accuracy: 0.6635 - val_loss: 0.9711 - val_accuracy: 0.6324\n",
            "Epoch 18/200\n",
            "1/1 [==============================] - 1s 612ms/step - loss: 0.9607 - accuracy: 0.6397 - val_loss: 0.9857 - val_accuracy: 0.6789\n",
            "Epoch 19/200\n",
            "1/1 [==============================] - 1s 610ms/step - loss: 0.9688 - accuracy: 0.6856 - val_loss: 0.9900 - val_accuracy: 0.6268\n",
            "Epoch 20/200\n",
            "1/1 [==============================] - 1s 610ms/step - loss: 0.9815 - accuracy: 0.6310 - val_loss: 0.9564 - val_accuracy: 0.6854\n",
            "Epoch 21/200\n",
            "1/1 [==============================] - 1s 611ms/step - loss: 0.9408 - accuracy: 0.6924 - val_loss: 0.8941 - val_accuracy: 0.6675\n",
            "Epoch 22/200\n",
            "1/1 [==============================] - 1s 600ms/step - loss: 0.8847 - accuracy: 0.6714 - val_loss: 0.8479 - val_accuracy: 0.7008\n",
            "Epoch 23/200\n",
            "1/1 [==============================] - 1s 619ms/step - loss: 0.8345 - accuracy: 0.7053 - val_loss: 0.8657 - val_accuracy: 0.6931\n",
            "Epoch 24/200\n",
            "1/1 [==============================] - 1s 637ms/step - loss: 0.8528 - accuracy: 0.7024 - val_loss: 0.8872 - val_accuracy: 0.7006\n",
            "Epoch 25/200\n",
            "1/1 [==============================] - 1s 595ms/step - loss: 0.8748 - accuracy: 0.7050 - val_loss: 0.9133 - val_accuracy: 0.6870\n",
            "Epoch 26/200\n",
            "1/1 [==============================] - 1s 614ms/step - loss: 0.8974 - accuracy: 0.6967 - val_loss: 0.8969 - val_accuracy: 0.6985\n",
            "Epoch 27/200\n",
            "1/1 [==============================] - 1s 610ms/step - loss: 0.8850 - accuracy: 0.7016 - val_loss: 0.8405 - val_accuracy: 0.6928\n",
            "Epoch 28/200\n",
            "1/1 [==============================] - 1s 635ms/step - loss: 0.8246 - accuracy: 0.7021 - val_loss: 0.8301 - val_accuracy: 0.7017\n",
            "Epoch 29/200\n",
            "1/1 [==============================] - 1s 611ms/step - loss: 0.8167 - accuracy: 0.7058 - val_loss: 0.8143 - val_accuracy: 0.6981\n",
            "Epoch 30/200\n",
            "1/1 [==============================] - 1s 605ms/step - loss: 0.7996 - accuracy: 0.7051 - val_loss: 0.8216 - val_accuracy: 0.7035\n",
            "Epoch 31/200\n",
            "1/1 [==============================] - 1s 613ms/step - loss: 0.8066 - accuracy: 0.7126 - val_loss: 0.8075 - val_accuracy: 0.6940\n",
            "Epoch 32/200\n",
            "1/1 [==============================] - 1s 602ms/step - loss: 0.7938 - accuracy: 0.6994 - val_loss: 0.8352 - val_accuracy: 0.7136\n",
            "Epoch 33/200\n",
            "1/1 [==============================] - 1s 616ms/step - loss: 0.8186 - accuracy: 0.7207 - val_loss: 0.8013 - val_accuracy: 0.7025\n",
            "Epoch 34/200\n",
            "1/1 [==============================] - 1s 603ms/step - loss: 0.7886 - accuracy: 0.7070 - val_loss: 0.8061 - val_accuracy: 0.7191\n",
            "Epoch 35/200\n",
            "1/1 [==============================] - 1s 607ms/step - loss: 0.7891 - accuracy: 0.7273 - val_loss: 0.7795 - val_accuracy: 0.7216\n",
            "Epoch 36/200\n",
            "1/1 [==============================] - 1s 615ms/step - loss: 0.7669 - accuracy: 0.7282 - val_loss: 0.7633 - val_accuracy: 0.7256\n",
            "Epoch 37/200\n",
            "1/1 [==============================] - 1s 596ms/step - loss: 0.7467 - accuracy: 0.7345 - val_loss: 0.7530 - val_accuracy: 0.7345\n",
            "Epoch 38/200\n",
            "1/1 [==============================] - 1s 618ms/step - loss: 0.7396 - accuracy: 0.7413 - val_loss: 0.7467 - val_accuracy: 0.7271\n",
            "Epoch 39/200\n",
            "1/1 [==============================] - 1s 618ms/step - loss: 0.7299 - accuracy: 0.7380 - val_loss: 0.7448 - val_accuracy: 0.7393\n",
            "Epoch 40/200\n",
            "1/1 [==============================] - 1s 599ms/step - loss: 0.7309 - accuracy: 0.7477 - val_loss: 0.7394 - val_accuracy: 0.7259\n",
            "Epoch 41/200\n",
            "1/1 [==============================] - 1s 623ms/step - loss: 0.7223 - accuracy: 0.7386 - val_loss: 0.7398 - val_accuracy: 0.7416\n",
            "Epoch 42/200\n",
            "1/1 [==============================] - 1s 607ms/step - loss: 0.7256 - accuracy: 0.7522 - val_loss: 0.7279 - val_accuracy: 0.7296\n",
            "Epoch 43/200\n",
            "1/1 [==============================] - 1s 609ms/step - loss: 0.7107 - accuracy: 0.7413 - val_loss: 0.7301 - val_accuracy: 0.7464\n",
            "Epoch 44/200\n",
            "1/1 [==============================] - 1s 617ms/step - loss: 0.7157 - accuracy: 0.7565 - val_loss: 0.7138 - val_accuracy: 0.7335\n",
            "Epoch 45/200\n",
            "1/1 [==============================] - 1s 606ms/step - loss: 0.6965 - accuracy: 0.7476 - val_loss: 0.7229 - val_accuracy: 0.7497\n",
            "Epoch 46/200\n",
            "1/1 [==============================] - 1s 608ms/step - loss: 0.7085 - accuracy: 0.7599 - val_loss: 0.7025 - val_accuracy: 0.7386\n",
            "Epoch 47/200\n",
            "1/1 [==============================] - 1s 605ms/step - loss: 0.6849 - accuracy: 0.7554 - val_loss: 0.7305 - val_accuracy: 0.7478\n",
            "Epoch 48/200\n",
            "1/1 [==============================] - 1s 616ms/step - loss: 0.7161 - accuracy: 0.7564 - val_loss: 0.7184 - val_accuracy: 0.7407\n",
            "Epoch 49/200\n",
            "1/1 [==============================] - 1s 606ms/step - loss: 0.7007 - accuracy: 0.7582 - val_loss: 0.7659 - val_accuracy: 0.7269\n",
            "Epoch 50/200\n",
            "1/1 [==============================] - 1s 609ms/step - loss: 0.7511 - accuracy: 0.7330 - val_loss: 0.8287 - val_accuracy: 0.7125\n",
            "Epoch 51/200\n",
            "1/1 [==============================] - 1s 619ms/step - loss: 0.8114 - accuracy: 0.7239 - val_loss: 0.7567 - val_accuracy: 0.7214\n",
            "Epoch 52/200\n",
            "1/1 [==============================] - 1s 594ms/step - loss: 0.7425 - accuracy: 0.7268 - val_loss: 0.7145 - val_accuracy: 0.7339\n",
            "Epoch 53/200\n",
            "1/1 [==============================] - 1s 619ms/step - loss: 0.6962 - accuracy: 0.7460 - val_loss: 0.6993 - val_accuracy: 0.7326\n",
            "Epoch 54/200\n",
            "1/1 [==============================] - 1s 614ms/step - loss: 0.6846 - accuracy: 0.7396 - val_loss: 0.6863 - val_accuracy: 0.7470\n",
            "Epoch 55/200\n",
            "1/1 [==============================] - 1s 598ms/step - loss: 0.6689 - accuracy: 0.7595 - val_loss: 0.6802 - val_accuracy: 0.7396\n",
            "Epoch 56/200\n",
            "1/1 [==============================] - 1s 619ms/step - loss: 0.6645 - accuracy: 0.7495 - val_loss: 0.6822 - val_accuracy: 0.7465\n",
            "Epoch 57/200\n",
            "1/1 [==============================] - 1s 628ms/step - loss: 0.6648 - accuracy: 0.7576 - val_loss: 0.6838 - val_accuracy: 0.7402\n",
            "Epoch 58/200\n",
            "1/1 [==============================] - 1s 615ms/step - loss: 0.6675 - accuracy: 0.7477 - val_loss: 0.6907 - val_accuracy: 0.7417\n",
            "Epoch 59/200\n",
            "1/1 [==============================] - 1s 623ms/step - loss: 0.6729 - accuracy: 0.7506 - val_loss: 0.6899 - val_accuracy: 0.7401\n",
            "Epoch 60/200\n",
            "1/1 [==============================] - 1s 645ms/step - loss: 0.6735 - accuracy: 0.7466 - val_loss: 0.6843 - val_accuracy: 0.7445\n",
            "Epoch 61/200\n",
            "1/1 [==============================] - 1s 1s/step - loss: 0.6661 - accuracy: 0.7541 - val_loss: 0.6785 - val_accuracy: 0.7439\n",
            "Epoch 62/200\n",
            "1/1 [==============================] - 1s 1s/step - loss: 0.6622 - accuracy: 0.7513 - val_loss: 0.6736 - val_accuracy: 0.7500\n",
            "Epoch 63/200\n",
            "1/1 [==============================] - 1s 824ms/step - loss: 0.6550 - accuracy: 0.7620 - val_loss: 0.6681 - val_accuracy: 0.7463\n",
            "Epoch 64/200\n",
            "1/1 [==============================] - 1s 611ms/step - loss: 0.6519 - accuracy: 0.7534 - val_loss: 0.6698 - val_accuracy: 0.7550\n",
            "Epoch 65/200\n",
            "1/1 [==============================] - 1s 597ms/step - loss: 0.6508 - accuracy: 0.7663 - val_loss: 0.6643 - val_accuracy: 0.7454\n",
            "Epoch 66/200\n",
            "1/1 [==============================] - 1s 621ms/step - loss: 0.6482 - accuracy: 0.7528 - val_loss: 0.6702 - val_accuracy: 0.7576\n",
            "Epoch 67/200\n",
            "1/1 [==============================] - 1s 612ms/step - loss: 0.6506 - accuracy: 0.7683 - val_loss: 0.6617 - val_accuracy: 0.7449\n",
            "Epoch 68/200\n",
            "1/1 [==============================] - 1s 610ms/step - loss: 0.6458 - accuracy: 0.7519 - val_loss: 0.6661 - val_accuracy: 0.7602\n",
            "Epoch 69/200\n",
            "1/1 [==============================] - 1s 610ms/step - loss: 0.6462 - accuracy: 0.7729 - val_loss: 0.6552 - val_accuracy: 0.7467\n",
            "Epoch 70/200\n",
            "1/1 [==============================] - 1s 607ms/step - loss: 0.6392 - accuracy: 0.7546 - val_loss: 0.6564 - val_accuracy: 0.7657\n",
            "Epoch 71/200\n",
            "1/1 [==============================] - 1s 611ms/step - loss: 0.6365 - accuracy: 0.7790 - val_loss: 0.6458 - val_accuracy: 0.7522\n",
            "Epoch 72/200\n",
            "1/1 [==============================] - 1s 606ms/step - loss: 0.6295 - accuracy: 0.7588 - val_loss: 0.6466 - val_accuracy: 0.7714\n",
            "Epoch 73/200\n",
            "1/1 [==============================] - 1s 646ms/step - loss: 0.6268 - accuracy: 0.7835 - val_loss: 0.6377 - val_accuracy: 0.7561\n",
            "Epoch 74/200\n",
            "1/1 [==============================] - 1s 610ms/step - loss: 0.6211 - accuracy: 0.7638 - val_loss: 0.6406 - val_accuracy: 0.7736\n",
            "Epoch 75/200\n",
            "1/1 [==============================] - 1s 617ms/step - loss: 0.6207 - accuracy: 0.7861 - val_loss: 0.6325 - val_accuracy: 0.7597\n",
            "Epoch 76/200\n",
            "1/1 [==============================] - 1s 630ms/step - loss: 0.6157 - accuracy: 0.7658 - val_loss: 0.6375 - val_accuracy: 0.7740\n",
            "Epoch 77/200\n",
            "1/1 [==============================] - 1s 604ms/step - loss: 0.6175 - accuracy: 0.7870 - val_loss: 0.6291 - val_accuracy: 0.7606\n",
            "Epoch 78/200\n",
            "1/1 [==============================] - 1s 618ms/step - loss: 0.6120 - accuracy: 0.7676 - val_loss: 0.6359 - val_accuracy: 0.7732\n",
            "Epoch 79/200\n",
            "1/1 [==============================] - 1s 613ms/step - loss: 0.6158 - accuracy: 0.7863 - val_loss: 0.6276 - val_accuracy: 0.7609\n",
            "Epoch 80/200\n",
            "1/1 [==============================] - 1s 605ms/step - loss: 0.6100 - accuracy: 0.7681 - val_loss: 0.6374 - val_accuracy: 0.7678\n",
            "Epoch 81/200\n",
            "1/1 [==============================] - 1s 620ms/step - loss: 0.6176 - accuracy: 0.7807 - val_loss: 0.6386 - val_accuracy: 0.7607\n",
            "Epoch 82/200\n",
            "1/1 [==============================] - 1s 607ms/step - loss: 0.6199 - accuracy: 0.7670 - val_loss: 0.6488 - val_accuracy: 0.7549\n",
            "Epoch 83/200\n",
            "1/1 [==============================] - 1s 613ms/step - loss: 0.6298 - accuracy: 0.7663 - val_loss: 0.6929 - val_accuracy: 0.7493\n",
            "Epoch 84/200\n",
            "1/1 [==============================] - 1s 621ms/step - loss: 0.6719 - accuracy: 0.7589 - val_loss: 0.6752 - val_accuracy: 0.7577\n",
            "Epoch 85/200\n",
            "1/1 [==============================] - 1s 610ms/step - loss: 0.6575 - accuracy: 0.7679 - val_loss: 0.6825 - val_accuracy: 0.7420\n",
            "Epoch 86/200\n",
            "1/1 [==============================] - 1s 608ms/step - loss: 0.6606 - accuracy: 0.7544 - val_loss: 0.6642 - val_accuracy: 0.7675\n",
            "Epoch 87/200\n",
            "1/1 [==============================] - 1s 610ms/step - loss: 0.6472 - accuracy: 0.7772 - val_loss: 0.6232 - val_accuracy: 0.7663\n",
            "Epoch 88/200\n",
            "1/1 [==============================] - 1s 619ms/step - loss: 0.6027 - accuracy: 0.7801 - val_loss: 0.6232 - val_accuracy: 0.7740\n",
            "Epoch 89/200\n",
            "1/1 [==============================] - 1s 631ms/step - loss: 0.6056 - accuracy: 0.7841 - val_loss: 0.6121 - val_accuracy: 0.7733\n",
            "Epoch 90/200\n",
            "1/1 [==============================] - 1s 620ms/step - loss: 0.5914 - accuracy: 0.7876 - val_loss: 0.6188 - val_accuracy: 0.7756\n",
            "Epoch 91/200\n",
            "1/1 [==============================] - 1s 615ms/step - loss: 0.6014 - accuracy: 0.7860 - val_loss: 0.6082 - val_accuracy: 0.7744\n",
            "Epoch 92/200\n",
            "1/1 [==============================] - 1s 601ms/step - loss: 0.5873 - accuracy: 0.7896 - val_loss: 0.6201 - val_accuracy: 0.7754\n",
            "Epoch 93/200\n",
            "1/1 [==============================] - 1s 610ms/step - loss: 0.6029 - accuracy: 0.7859 - val_loss: 0.6047 - val_accuracy: 0.7760\n",
            "Epoch 94/200\n",
            "1/1 [==============================] - 1s 616ms/step - loss: 0.5835 - accuracy: 0.7917 - val_loss: 0.6185 - val_accuracy: 0.7775\n",
            "Epoch 95/200\n",
            "1/1 [==============================] - 1s 611ms/step - loss: 0.6013 - accuracy: 0.7863 - val_loss: 0.5998 - val_accuracy: 0.7786\n",
            "Epoch 96/200\n",
            "1/1 [==============================] - 1s 618ms/step - loss: 0.5784 - accuracy: 0.7947 - val_loss: 0.6130 - val_accuracy: 0.7799\n",
            "Epoch 97/200\n",
            "1/1 [==============================] - 1s 609ms/step - loss: 0.5958 - accuracy: 0.7872 - val_loss: 0.5950 - val_accuracy: 0.7807\n",
            "Epoch 98/200\n",
            "1/1 [==============================] - 1s 608ms/step - loss: 0.5734 - accuracy: 0.7983 - val_loss: 0.6077 - val_accuracy: 0.7808\n",
            "Epoch 99/200\n",
            "1/1 [==============================] - 1s 617ms/step - loss: 0.5906 - accuracy: 0.7881 - val_loss: 0.5921 - val_accuracy: 0.7848\n",
            "Epoch 100/200\n",
            "1/1 [==============================] - 1s 615ms/step - loss: 0.5702 - accuracy: 0.8010 - val_loss: 0.6049 - val_accuracy: 0.7810\n",
            "Epoch 101/200\n",
            "1/1 [==============================] - 1s 615ms/step - loss: 0.5878 - accuracy: 0.7880 - val_loss: 0.5941 - val_accuracy: 0.7850\n",
            "Epoch 102/200\n",
            "1/1 [==============================] - 1s 605ms/step - loss: 0.5719 - accuracy: 0.8023 - val_loss: 0.6070 - val_accuracy: 0.7779\n",
            "Epoch 103/200\n",
            "1/1 [==============================] - 1s 617ms/step - loss: 0.5897 - accuracy: 0.7835 - val_loss: 0.6121 - val_accuracy: 0.7813\n",
            "Epoch 104/200\n",
            "1/1 [==============================] - 1s 610ms/step - loss: 0.5898 - accuracy: 0.7949 - val_loss: 0.6198 - val_accuracy: 0.7630\n",
            "Epoch 105/200\n",
            "1/1 [==============================] - 1s 612ms/step - loss: 0.6019 - accuracy: 0.7689 - val_loss: 0.6501 - val_accuracy: 0.7617\n",
            "Epoch 106/200\n",
            "1/1 [==============================] - 1s 620ms/step - loss: 0.6282 - accuracy: 0.7716 - val_loss: 0.6393 - val_accuracy: 0.7570\n",
            "Epoch 107/200\n",
            "1/1 [==============================] - 1s 633ms/step - loss: 0.6203 - accuracy: 0.7641 - val_loss: 0.6179 - val_accuracy: 0.7701\n",
            "Epoch 108/200\n",
            "1/1 [==============================] - 1s 607ms/step - loss: 0.5971 - accuracy: 0.7818 - val_loss: 0.6179 - val_accuracy: 0.7663\n",
            "Epoch 109/200\n",
            "1/1 [==============================] - 1s 618ms/step - loss: 0.5981 - accuracy: 0.7748 - val_loss: 0.5938 - val_accuracy: 0.7838\n",
            "Epoch 110/200\n",
            "1/1 [==============================] - 1s 602ms/step - loss: 0.5740 - accuracy: 0.7933 - val_loss: 0.5984 - val_accuracy: 0.7760\n",
            "Epoch 111/200\n",
            "1/1 [==============================] - 1s 623ms/step - loss: 0.5775 - accuracy: 0.7850 - val_loss: 0.5864 - val_accuracy: 0.7869\n",
            "Epoch 112/200\n",
            "1/1 [==============================] - 1s 618ms/step - loss: 0.5669 - accuracy: 0.7959 - val_loss: 0.5915 - val_accuracy: 0.7800\n",
            "Epoch 113/200\n",
            "1/1 [==============================] - 1s 596ms/step - loss: 0.5702 - accuracy: 0.7899 - val_loss: 0.5833 - val_accuracy: 0.7867\n",
            "Epoch 114/200\n",
            "1/1 [==============================] - 1s 610ms/step - loss: 0.5638 - accuracy: 0.7968 - val_loss: 0.5887 - val_accuracy: 0.7816\n",
            "Epoch 115/200\n",
            "1/1 [==============================] - 1s 617ms/step - loss: 0.5671 - accuracy: 0.7910 - val_loss: 0.5817 - val_accuracy: 0.7867\n",
            "Epoch 116/200\n",
            "1/1 [==============================] - 1s 622ms/step - loss: 0.5621 - accuracy: 0.7972 - val_loss: 0.5864 - val_accuracy: 0.7818\n",
            "Epoch 117/200\n",
            "1/1 [==============================] - 1s 623ms/step - loss: 0.5648 - accuracy: 0.7921 - val_loss: 0.5794 - val_accuracy: 0.7884\n",
            "Epoch 118/200\n",
            "1/1 [==============================] - 1s 601ms/step - loss: 0.5597 - accuracy: 0.7981 - val_loss: 0.5828 - val_accuracy: 0.7838\n",
            "Epoch 119/200\n",
            "1/1 [==============================] - 1s 622ms/step - loss: 0.5612 - accuracy: 0.7940 - val_loss: 0.5762 - val_accuracy: 0.7898\n",
            "Epoch 120/200\n",
            "1/1 [==============================] - 1s 599ms/step - loss: 0.5564 - accuracy: 0.7996 - val_loss: 0.5786 - val_accuracy: 0.7846\n",
            "Epoch 121/200\n",
            "1/1 [==============================] - 1s 617ms/step - loss: 0.5569 - accuracy: 0.7962 - val_loss: 0.5730 - val_accuracy: 0.7914\n",
            "Epoch 122/200\n",
            "1/1 [==============================] - 1s 612ms/step - loss: 0.5532 - accuracy: 0.8006 - val_loss: 0.5744 - val_accuracy: 0.7871\n",
            "Epoch 123/200\n",
            "1/1 [==============================] - 1s 609ms/step - loss: 0.5525 - accuracy: 0.7991 - val_loss: 0.5708 - val_accuracy: 0.7920\n",
            "Epoch 124/200\n",
            "1/1 [==============================] - 1s 651ms/step - loss: 0.5511 - accuracy: 0.8009 - val_loss: 0.5710 - val_accuracy: 0.7880\n",
            "Epoch 125/200\n",
            "1/1 [==============================] - 1s 600ms/step - loss: 0.5488 - accuracy: 0.8015 - val_loss: 0.5708 - val_accuracy: 0.7925\n",
            "Epoch 126/200\n",
            "1/1 [==============================] - 1s 614ms/step - loss: 0.5514 - accuracy: 0.8007 - val_loss: 0.5684 - val_accuracy: 0.7899\n",
            "Epoch 127/200\n",
            "1/1 [==============================] - 1s 620ms/step - loss: 0.5455 - accuracy: 0.8035 - val_loss: 0.5770 - val_accuracy: 0.7915\n",
            "Epoch 128/200\n",
            "1/1 [==============================] - 1s 604ms/step - loss: 0.5582 - accuracy: 0.7996 - val_loss: 0.5690 - val_accuracy: 0.7888\n",
            "Epoch 129/200\n",
            "1/1 [==============================] - 1s 614ms/step - loss: 0.5452 - accuracy: 0.8041 - val_loss: 0.5977 - val_accuracy: 0.7853\n",
            "Epoch 130/200\n",
            "1/1 [==============================] - 1s 607ms/step - loss: 0.5796 - accuracy: 0.7933 - val_loss: 0.5866 - val_accuracy: 0.7866\n",
            "Epoch 131/200\n",
            "1/1 [==============================] - 1s 612ms/step - loss: 0.5623 - accuracy: 0.8019 - val_loss: 0.6184 - val_accuracy: 0.7721\n",
            "Epoch 132/200\n",
            "1/1 [==============================] - 1s 627ms/step - loss: 0.6002 - accuracy: 0.7804 - val_loss: 0.6276 - val_accuracy: 0.7756\n",
            "Epoch 133/200\n",
            "1/1 [==============================] - 1s 611ms/step - loss: 0.6040 - accuracy: 0.7865 - val_loss: 0.6039 - val_accuracy: 0.7716\n",
            "Epoch 134/200\n",
            "1/1 [==============================] - 1s 621ms/step - loss: 0.5847 - accuracy: 0.7766 - val_loss: 0.5931 - val_accuracy: 0.7859\n",
            "Epoch 135/200\n",
            "1/1 [==============================] - 1s 611ms/step - loss: 0.5703 - accuracy: 0.7982 - val_loss: 0.5740 - val_accuracy: 0.7867\n",
            "Epoch 136/200\n",
            "1/1 [==============================] - 1s 625ms/step - loss: 0.5543 - accuracy: 0.7929 - val_loss: 0.5646 - val_accuracy: 0.7994\n",
            "Epoch 137/200\n",
            "1/1 [==============================] - 1s 621ms/step - loss: 0.5425 - accuracy: 0.8119 - val_loss: 0.5568 - val_accuracy: 0.7955\n",
            "Epoch 138/200\n",
            "1/1 [==============================] - 1s 609ms/step - loss: 0.5362 - accuracy: 0.8069 - val_loss: 0.5556 - val_accuracy: 0.8034\n",
            "Epoch 139/200\n",
            "1/1 [==============================] - 1s 615ms/step - loss: 0.5336 - accuracy: 0.8146 - val_loss: 0.5540 - val_accuracy: 0.7980\n",
            "Epoch 140/200\n",
            "1/1 [==============================] - 1s 602ms/step - loss: 0.5329 - accuracy: 0.8085 - val_loss: 0.5565 - val_accuracy: 0.8010\n",
            "Epoch 141/200\n",
            "1/1 [==============================] - 1s 643ms/step - loss: 0.5344 - accuracy: 0.8130 - val_loss: 0.5589 - val_accuracy: 0.7947\n",
            "Epoch 142/200\n",
            "1/1 [==============================] - 1s 617ms/step - loss: 0.5374 - accuracy: 0.8031 - val_loss: 0.5605 - val_accuracy: 0.7979\n",
            "Epoch 143/200\n",
            "1/1 [==============================] - 1s 604ms/step - loss: 0.5384 - accuracy: 0.8095 - val_loss: 0.5645 - val_accuracy: 0.7913\n",
            "Epoch 144/200\n",
            "1/1 [==============================] - 1s 621ms/step - loss: 0.5427 - accuracy: 0.7994 - val_loss: 0.5601 - val_accuracy: 0.7978\n",
            "Epoch 145/200\n",
            "1/1 [==============================] - 1s 612ms/step - loss: 0.5379 - accuracy: 0.8083 - val_loss: 0.5628 - val_accuracy: 0.7914\n",
            "Epoch 146/200\n",
            "1/1 [==============================] - 1s 620ms/step - loss: 0.5407 - accuracy: 0.8004 - val_loss: 0.5538 - val_accuracy: 0.8007\n",
            "Epoch 147/200\n",
            "1/1 [==============================] - 1s 617ms/step - loss: 0.5317 - accuracy: 0.8105 - val_loss: 0.5554 - val_accuracy: 0.7954\n",
            "Epoch 148/200\n",
            "1/1 [==============================] - 1s 614ms/step - loss: 0.5331 - accuracy: 0.8050 - val_loss: 0.5474 - val_accuracy: 0.8040\n",
            "Epoch 149/200\n",
            "1/1 [==============================] - 1s 615ms/step - loss: 0.5253 - accuracy: 0.8140 - val_loss: 0.5493 - val_accuracy: 0.7995\n",
            "Epoch 150/200\n",
            "1/1 [==============================] - 1s 605ms/step - loss: 0.5268 - accuracy: 0.8096 - val_loss: 0.5437 - val_accuracy: 0.8050\n",
            "Epoch 151/200\n",
            "1/1 [==============================] - 1s 622ms/step - loss: 0.5216 - accuracy: 0.8152 - val_loss: 0.5470 - val_accuracy: 0.7995\n",
            "Epoch 152/200\n",
            "1/1 [==============================] - 1s 612ms/step - loss: 0.5241 - accuracy: 0.8110 - val_loss: 0.5429 - val_accuracy: 0.8042\n",
            "Epoch 153/200\n",
            "1/1 [==============================] - 1s 616ms/step - loss: 0.5210 - accuracy: 0.8144 - val_loss: 0.5477 - val_accuracy: 0.7986\n",
            "Epoch 154/200\n",
            "1/1 [==============================] - 1s 624ms/step - loss: 0.5243 - accuracy: 0.8106 - val_loss: 0.5451 - val_accuracy: 0.8025\n",
            "Epoch 155/200\n",
            "1/1 [==============================] - 1s 605ms/step - loss: 0.5237 - accuracy: 0.8122 - val_loss: 0.5506 - val_accuracy: 0.7953\n",
            "Epoch 156/200\n",
            "1/1 [==============================] - 1s 621ms/step - loss: 0.5262 - accuracy: 0.8088 - val_loss: 0.5564 - val_accuracy: 0.7986\n",
            "Epoch 157/200\n",
            "1/1 [==============================] - 1s 622ms/step - loss: 0.5360 - accuracy: 0.8067 - val_loss: 0.5550 - val_accuracy: 0.7905\n",
            "Epoch 158/200\n",
            "1/1 [==============================] - 1s 621ms/step - loss: 0.5294 - accuracy: 0.8056 - val_loss: 0.5875 - val_accuracy: 0.7944\n",
            "Epoch 159/200\n",
            "1/1 [==============================] - 1s 622ms/step - loss: 0.5680 - accuracy: 0.8015 - val_loss: 0.5593 - val_accuracy: 0.7925\n",
            "Epoch 160/200\n",
            "1/1 [==============================] - 1s 615ms/step - loss: 0.5333 - accuracy: 0.8068 - val_loss: 0.5947 - val_accuracy: 0.7882\n",
            "Epoch 161/200\n",
            "1/1 [==============================] - 1s 599ms/step - loss: 0.5753 - accuracy: 0.7975 - val_loss: 0.5754 - val_accuracy: 0.7905\n",
            "Epoch 162/200\n",
            "1/1 [==============================] - 1s 618ms/step - loss: 0.5502 - accuracy: 0.8049 - val_loss: 0.5695 - val_accuracy: 0.7924\n",
            "Epoch 163/200\n",
            "1/1 [==============================] - 1s 613ms/step - loss: 0.5494 - accuracy: 0.8006 - val_loss: 0.5610 - val_accuracy: 0.7962\n",
            "Epoch 164/200\n",
            "1/1 [==============================] - 1s 617ms/step - loss: 0.5364 - accuracy: 0.8120 - val_loss: 0.5474 - val_accuracy: 0.8033\n",
            "Epoch 165/200\n",
            "1/1 [==============================] - 1s 617ms/step - loss: 0.5269 - accuracy: 0.8119 - val_loss: 0.5420 - val_accuracy: 0.8075\n",
            "Epoch 166/200\n",
            "1/1 [==============================] - 1s 614ms/step - loss: 0.5177 - accuracy: 0.8206 - val_loss: 0.5334 - val_accuracy: 0.8115\n",
            "Epoch 167/200\n",
            "1/1 [==============================] - 1s 612ms/step - loss: 0.5124 - accuracy: 0.8203 - val_loss: 0.5341 - val_accuracy: 0.8108\n",
            "Epoch 168/200\n",
            "1/1 [==============================] - 1s 611ms/step - loss: 0.5099 - accuracy: 0.8239 - val_loss: 0.5289 - val_accuracy: 0.8142\n",
            "Epoch 169/200\n",
            "1/1 [==============================] - 1s 631ms/step - loss: 0.5076 - accuracy: 0.8225 - val_loss: 0.5333 - val_accuracy: 0.8110\n",
            "Epoch 170/200\n",
            "1/1 [==============================] - 1s 614ms/step - loss: 0.5089 - accuracy: 0.8240 - val_loss: 0.5296 - val_accuracy: 0.8128\n",
            "Epoch 171/200\n",
            "1/1 [==============================] - 1s 615ms/step - loss: 0.5081 - accuracy: 0.8212 - val_loss: 0.5368 - val_accuracy: 0.8100\n",
            "Epoch 172/200\n",
            "1/1 [==============================] - 1s 628ms/step - loss: 0.5120 - accuracy: 0.8224 - val_loss: 0.5329 - val_accuracy: 0.8089\n",
            "Epoch 173/200\n",
            "1/1 [==============================] - 1s 619ms/step - loss: 0.5113 - accuracy: 0.8185 - val_loss: 0.5408 - val_accuracy: 0.8085\n",
            "Epoch 174/200\n",
            "1/1 [==============================] - 1s 623ms/step - loss: 0.5158 - accuracy: 0.8206 - val_loss: 0.5347 - val_accuracy: 0.8072\n",
            "Epoch 175/200\n",
            "1/1 [==============================] - 1s 641ms/step - loss: 0.5131 - accuracy: 0.8173 - val_loss: 0.5403 - val_accuracy: 0.8073\n",
            "Epoch 176/200\n",
            "1/1 [==============================] - 1s 613ms/step - loss: 0.5152 - accuracy: 0.8206 - val_loss: 0.5325 - val_accuracy: 0.8092\n",
            "Epoch 177/200\n",
            "1/1 [==============================] - 1s 618ms/step - loss: 0.5108 - accuracy: 0.8185 - val_loss: 0.5356 - val_accuracy: 0.8092\n",
            "Epoch 178/200\n",
            "1/1 [==============================] - 1s 613ms/step - loss: 0.5104 - accuracy: 0.8230 - val_loss: 0.5282 - val_accuracy: 0.8134\n",
            "Epoch 179/200\n",
            "1/1 [==============================] - 1s 613ms/step - loss: 0.5065 - accuracy: 0.8220 - val_loss: 0.5307 - val_accuracy: 0.8105\n",
            "Epoch 180/200\n",
            "1/1 [==============================] - 1s 622ms/step - loss: 0.5054 - accuracy: 0.8247 - val_loss: 0.5253 - val_accuracy: 0.8151\n",
            "Epoch 181/200\n",
            "1/1 [==============================] - 1s 613ms/step - loss: 0.5034 - accuracy: 0.8241 - val_loss: 0.5278 - val_accuracy: 0.8118\n",
            "Epoch 182/200\n",
            "1/1 [==============================] - 1s 619ms/step - loss: 0.5021 - accuracy: 0.8249 - val_loss: 0.5252 - val_accuracy: 0.8138\n",
            "Epoch 183/200\n",
            "1/1 [==============================] - 1s 608ms/step - loss: 0.5034 - accuracy: 0.8238 - val_loss: 0.5265 - val_accuracy: 0.8107\n",
            "Epoch 184/200\n",
            "1/1 [==============================] - 1s 620ms/step - loss: 0.5005 - accuracy: 0.8239 - val_loss: 0.5298 - val_accuracy: 0.8131\n",
            "Epoch 185/200\n",
            "1/1 [==============================] - 1s 615ms/step - loss: 0.5083 - accuracy: 0.8214 - val_loss: 0.5265 - val_accuracy: 0.8090\n",
            "Epoch 186/200\n",
            "1/1 [==============================] - 1s 608ms/step - loss: 0.5000 - accuracy: 0.8225 - val_loss: 0.5412 - val_accuracy: 0.8072\n",
            "Epoch 187/200\n",
            "1/1 [==============================] - 1s 627ms/step - loss: 0.5199 - accuracy: 0.8154 - val_loss: 0.5282 - val_accuracy: 0.8072\n",
            "Epoch 188/200\n",
            "1/1 [==============================] - 1s 609ms/step - loss: 0.5016 - accuracy: 0.8203 - val_loss: 0.5533 - val_accuracy: 0.8027\n",
            "Epoch 189/200\n",
            "1/1 [==============================] - 1s 619ms/step - loss: 0.5321 - accuracy: 0.8103 - val_loss: 0.5393 - val_accuracy: 0.7998\n",
            "Epoch 190/200\n",
            "1/1 [==============================] - 1s 620ms/step - loss: 0.5132 - accuracy: 0.8138 - val_loss: 0.5580 - val_accuracy: 0.7981\n",
            "Epoch 191/200\n",
            "1/1 [==============================] - 1s 610ms/step - loss: 0.5361 - accuracy: 0.8063 - val_loss: 0.5553 - val_accuracy: 0.7921\n",
            "Epoch 192/200\n",
            "1/1 [==============================] - 1s 640ms/step - loss: 0.5300 - accuracy: 0.8032 - val_loss: 0.5468 - val_accuracy: 0.8014\n",
            "Epoch 193/200\n",
            "1/1 [==============================] - 1s 617ms/step - loss: 0.5242 - accuracy: 0.8098 - val_loss: 0.5446 - val_accuracy: 0.7963\n",
            "Epoch 194/200\n",
            "1/1 [==============================] - 1s 610ms/step - loss: 0.5200 - accuracy: 0.8079 - val_loss: 0.5260 - val_accuracy: 0.8111\n",
            "Epoch 195/200\n",
            "1/1 [==============================] - 1s 618ms/step - loss: 0.5029 - accuracy: 0.8201 - val_loss: 0.5234 - val_accuracy: 0.8088\n",
            "Epoch 196/200\n",
            "1/1 [==============================] - 1s 616ms/step - loss: 0.4992 - accuracy: 0.8213 - val_loss: 0.5140 - val_accuracy: 0.8170\n",
            "Epoch 197/200\n",
            "1/1 [==============================] - 1s 619ms/step - loss: 0.4906 - accuracy: 0.8270 - val_loss: 0.5133 - val_accuracy: 0.8154\n",
            "Epoch 198/200\n",
            "1/1 [==============================] - 1s 626ms/step - loss: 0.4891 - accuracy: 0.8276 - val_loss: 0.5095 - val_accuracy: 0.8200\n",
            "Epoch 199/200\n",
            "1/1 [==============================] - 1s 578ms/step - loss: 0.4857 - accuracy: 0.8291 - val_loss: 0.5107 - val_accuracy: 0.8174\n",
            "Epoch 200/200\n",
            "1/1 [==============================] - 1s 581ms/step - loss: 0.4864 - accuracy: 0.8284 - val_loss: 0.5096 - val_accuracy: 0.8190\n"
          ]
        }
      ]
    },
    {
      "cell_type": "code",
      "source": [
        "import pandas as pd"
      ],
      "metadata": {
        "id": "jdAdHIaVqL8d"
      },
      "execution_count": null,
      "outputs": []
    },
    {
      "cell_type": "code",
      "source": [
        "history = pd.DataFrame(history.history)"
      ],
      "metadata": {
        "id": "cHLZh3bgqP2d"
      },
      "execution_count": null,
      "outputs": []
    },
    {
      "cell_type": "code",
      "source": [
        "history"
      ],
      "metadata": {
        "id": "YhXujbrfqT4D",
        "outputId": "498c5421-2afe-4229-bfce-ce1aee838e26",
        "colab": {
          "base_uri": "https://localhost:8080/",
          "height": 424
        }
      },
      "execution_count": null,
      "outputs": [
        {
          "output_type": "execute_result",
          "data": {
            "text/plain": [
              "         loss  accuracy  val_loss  val_accuracy\n",
              "0    2.373385  0.064467  1.854541        0.2781\n",
              "1    1.851145  0.281700  1.820073        0.4588\n",
              "2    1.813338  0.461167  1.671972        0.4188\n",
              "3    1.664903  0.428217  1.542778        0.5189\n",
              "4    1.535083  0.522450  1.379750        0.5271\n",
              "..        ...       ...       ...           ...\n",
              "195  0.499153  0.821317  0.514050        0.8170\n",
              "196  0.490564  0.826950  0.513344        0.8154\n",
              "197  0.489110  0.827583  0.509520        0.8200\n",
              "198  0.485710  0.829117  0.510671        0.8174\n",
              "199  0.486359  0.828417  0.509577        0.8190\n",
              "\n",
              "[200 rows x 4 columns]"
            ],
            "text/html": [
              "\n",
              "  <div id=\"df-5c0afba3-499e-4d6a-8fb9-9888b4e7f83f\">\n",
              "    <div class=\"colab-df-container\">\n",
              "      <div>\n",
              "<style scoped>\n",
              "    .dataframe tbody tr th:only-of-type {\n",
              "        vertical-align: middle;\n",
              "    }\n",
              "\n",
              "    .dataframe tbody tr th {\n",
              "        vertical-align: top;\n",
              "    }\n",
              "\n",
              "    .dataframe thead th {\n",
              "        text-align: right;\n",
              "    }\n",
              "</style>\n",
              "<table border=\"1\" class=\"dataframe\">\n",
              "  <thead>\n",
              "    <tr style=\"text-align: right;\">\n",
              "      <th></th>\n",
              "      <th>loss</th>\n",
              "      <th>accuracy</th>\n",
              "      <th>val_loss</th>\n",
              "      <th>val_accuracy</th>\n",
              "    </tr>\n",
              "  </thead>\n",
              "  <tbody>\n",
              "    <tr>\n",
              "      <th>0</th>\n",
              "      <td>2.373385</td>\n",
              "      <td>0.064467</td>\n",
              "      <td>1.854541</td>\n",
              "      <td>0.2781</td>\n",
              "    </tr>\n",
              "    <tr>\n",
              "      <th>1</th>\n",
              "      <td>1.851145</td>\n",
              "      <td>0.281700</td>\n",
              "      <td>1.820073</td>\n",
              "      <td>0.4588</td>\n",
              "    </tr>\n",
              "    <tr>\n",
              "      <th>2</th>\n",
              "      <td>1.813338</td>\n",
              "      <td>0.461167</td>\n",
              "      <td>1.671972</td>\n",
              "      <td>0.4188</td>\n",
              "    </tr>\n",
              "    <tr>\n",
              "      <th>3</th>\n",
              "      <td>1.664903</td>\n",
              "      <td>0.428217</td>\n",
              "      <td>1.542778</td>\n",
              "      <td>0.5189</td>\n",
              "    </tr>\n",
              "    <tr>\n",
              "      <th>4</th>\n",
              "      <td>1.535083</td>\n",
              "      <td>0.522450</td>\n",
              "      <td>1.379750</td>\n",
              "      <td>0.5271</td>\n",
              "    </tr>\n",
              "    <tr>\n",
              "      <th>...</th>\n",
              "      <td>...</td>\n",
              "      <td>...</td>\n",
              "      <td>...</td>\n",
              "      <td>...</td>\n",
              "    </tr>\n",
              "    <tr>\n",
              "      <th>195</th>\n",
              "      <td>0.499153</td>\n",
              "      <td>0.821317</td>\n",
              "      <td>0.514050</td>\n",
              "      <td>0.8170</td>\n",
              "    </tr>\n",
              "    <tr>\n",
              "      <th>196</th>\n",
              "      <td>0.490564</td>\n",
              "      <td>0.826950</td>\n",
              "      <td>0.513344</td>\n",
              "      <td>0.8154</td>\n",
              "    </tr>\n",
              "    <tr>\n",
              "      <th>197</th>\n",
              "      <td>0.489110</td>\n",
              "      <td>0.827583</td>\n",
              "      <td>0.509520</td>\n",
              "      <td>0.8200</td>\n",
              "    </tr>\n",
              "    <tr>\n",
              "      <th>198</th>\n",
              "      <td>0.485710</td>\n",
              "      <td>0.829117</td>\n",
              "      <td>0.510671</td>\n",
              "      <td>0.8174</td>\n",
              "    </tr>\n",
              "    <tr>\n",
              "      <th>199</th>\n",
              "      <td>0.486359</td>\n",
              "      <td>0.828417</td>\n",
              "      <td>0.509577</td>\n",
              "      <td>0.8190</td>\n",
              "    </tr>\n",
              "  </tbody>\n",
              "</table>\n",
              "<p>200 rows × 4 columns</p>\n",
              "</div>\n",
              "      <button class=\"colab-df-convert\" onclick=\"convertToInteractive('df-5c0afba3-499e-4d6a-8fb9-9888b4e7f83f')\"\n",
              "              title=\"Convert this dataframe to an interactive table.\"\n",
              "              style=\"display:none;\">\n",
              "        \n",
              "  <svg xmlns=\"http://www.w3.org/2000/svg\" height=\"24px\"viewBox=\"0 0 24 24\"\n",
              "       width=\"24px\">\n",
              "    <path d=\"M0 0h24v24H0V0z\" fill=\"none\"/>\n",
              "    <path d=\"M18.56 5.44l.94 2.06.94-2.06 2.06-.94-2.06-.94-.94-2.06-.94 2.06-2.06.94zm-11 1L8.5 8.5l.94-2.06 2.06-.94-2.06-.94L8.5 2.5l-.94 2.06-2.06.94zm10 10l.94 2.06.94-2.06 2.06-.94-2.06-.94-.94-2.06-.94 2.06-2.06.94z\"/><path d=\"M17.41 7.96l-1.37-1.37c-.4-.4-.92-.59-1.43-.59-.52 0-1.04.2-1.43.59L10.3 9.45l-7.72 7.72c-.78.78-.78 2.05 0 2.83L4 21.41c.39.39.9.59 1.41.59.51 0 1.02-.2 1.41-.59l7.78-7.78 2.81-2.81c.8-.78.8-2.07 0-2.86zM5.41 20L4 18.59l7.72-7.72 1.47 1.35L5.41 20z\"/>\n",
              "  </svg>\n",
              "      </button>\n",
              "      \n",
              "  <style>\n",
              "    .colab-df-container {\n",
              "      display:flex;\n",
              "      flex-wrap:wrap;\n",
              "      gap: 12px;\n",
              "    }\n",
              "\n",
              "    .colab-df-convert {\n",
              "      background-color: #E8F0FE;\n",
              "      border: none;\n",
              "      border-radius: 50%;\n",
              "      cursor: pointer;\n",
              "      display: none;\n",
              "      fill: #1967D2;\n",
              "      height: 32px;\n",
              "      padding: 0 0 0 0;\n",
              "      width: 32px;\n",
              "    }\n",
              "\n",
              "    .colab-df-convert:hover {\n",
              "      background-color: #E2EBFA;\n",
              "      box-shadow: 0px 1px 2px rgba(60, 64, 67, 0.3), 0px 1px 3px 1px rgba(60, 64, 67, 0.15);\n",
              "      fill: #174EA6;\n",
              "    }\n",
              "\n",
              "    [theme=dark] .colab-df-convert {\n",
              "      background-color: #3B4455;\n",
              "      fill: #D2E3FC;\n",
              "    }\n",
              "\n",
              "    [theme=dark] .colab-df-convert:hover {\n",
              "      background-color: #434B5C;\n",
              "      box-shadow: 0px 1px 3px 1px rgba(0, 0, 0, 0.15);\n",
              "      filter: drop-shadow(0px 1px 2px rgba(0, 0, 0, 0.3));\n",
              "      fill: #FFFFFF;\n",
              "    }\n",
              "  </style>\n",
              "\n",
              "      <script>\n",
              "        const buttonEl =\n",
              "          document.querySelector('#df-5c0afba3-499e-4d6a-8fb9-9888b4e7f83f button.colab-df-convert');\n",
              "        buttonEl.style.display =\n",
              "          google.colab.kernel.accessAllowed ? 'block' : 'none';\n",
              "\n",
              "        async function convertToInteractive(key) {\n",
              "          const element = document.querySelector('#df-5c0afba3-499e-4d6a-8fb9-9888b4e7f83f');\n",
              "          const dataTable =\n",
              "            await google.colab.kernel.invokeFunction('convertToInteractive',\n",
              "                                                     [key], {});\n",
              "          if (!dataTable) return;\n",
              "\n",
              "          const docLinkHtml = 'Like what you see? Visit the ' +\n",
              "            '<a target=\"_blank\" href=https://colab.research.google.com/notebooks/data_table.ipynb>data table notebook</a>'\n",
              "            + ' to learn more about interactive tables.';\n",
              "          element.innerHTML = '';\n",
              "          dataTable['output_type'] = 'display_data';\n",
              "          await google.colab.output.renderOutput(dataTable, element);\n",
              "          const docLink = document.createElement('div');\n",
              "          docLink.innerHTML = docLinkHtml;\n",
              "          element.appendChild(docLink);\n",
              "        }\n",
              "      </script>\n",
              "    </div>\n",
              "  </div>\n",
              "  "
            ]
          },
          "metadata": {},
          "execution_count": 37
        }
      ]
    },
    {
      "cell_type": "code",
      "source": [
        "history.plot(y=['loss', 'val_loss'], title='Loss')\n",
        "history.plot(y=['accuracy', 'val_accuracy'], title='Accuracy')"
      ],
      "metadata": {
        "id": "sFyXn_09qbU7",
        "outputId": "e71debac-3107-4554-b7f7-ccef40aab50c",
        "colab": {
          "base_uri": "https://localhost:8080/",
          "height": 593
        }
      },
      "execution_count": null,
      "outputs": [
        {
          "output_type": "execute_result",
          "data": {
            "text/plain": [
              "<matplotlib.axes._subplots.AxesSubplot at 0x7f2dc27aa390>"
            ]
          },
          "metadata": {},
          "execution_count": 38
        },
        {
          "output_type": "display_data",
          "data": {
            "text/plain": [
              "<Figure size 432x288 with 1 Axes>"
            ],
            "image/png": "[encoded data removed]"
          },
          "metadata": {
            "needs_background": "light"
          }
        },
        {
          "output_type": "display_data",
          "data": {
            "text/plain": [
              "<Figure size 432x288 with 1 Axes>"
            ],
            "image/png": "[encoded data removed]"
          },
          "metadata": {
            "needs_background": "light"
          }
        }
      ]
    },
    {
      "cell_type": "markdown",
      "source": [
        "Evaluation of the model"
      ],
      "metadata": {
        "id": "BTyLf0h5qzFb"
      }
    },
    {
      "cell_type": "code",
      "source": [
        "from sklearn.metrics import classification_report"
      ],
      "metadata": {
        "id": "BuR4DPILqops"
      },
      "execution_count": null,
      "outputs": []
    },
    {
      "cell_type": "code",
      "source": [
        "y_test_predict = model.predict(x_test)\n",
        "y_test_predict"
      ],
      "metadata": {
        "id": "lJvGcoMXsLKV",
        "outputId": "3dec96fe-681e-46cc-b714-c0a6a367899e",
        "colab": {
          "base_uri": "https://localhost:8080/"
        }
      },
      "execution_count": null,
      "outputs": [
        {
          "output_type": "execute_result",
          "data": {
            "text/plain": [
              "array([[6.0381855e-05, 3.1737418e-05, 4.7132831e-05, ..., 2.2975881e-01,\n",
              "        1.0608823e-02, 6.1823797e-01],\n",
              "       [5.0883845e-04, 5.5708708e-05, 8.7808257e-01, ..., 8.4525218e-06,\n",
              "        2.5101993e-04, 1.8538700e-05],\n",
              "       [4.9907285e-05, 9.9979538e-01, 1.5634985e-05, ..., 2.8527958e-07,\n",
              "        5.0070037e-07, 1.7840121e-07],\n",
              "       ...,\n",
              "       [5.9945863e-02, 6.6447050e-05, 3.1723147e-03, ..., 2.9886307e-04,\n",
              "        7.7702564e-01, 1.3480081e-04],\n",
              "       [9.3906616e-05, 9.9075878e-01, 1.4302645e-04, ..., 1.8068729e-05,\n",
              "        8.3058030e-06, 2.9497391e-05],\n",
              "       [8.8835886e-04, 1.0362400e-03, 2.3142854e-03, ..., 1.9440268e-01,\n",
              "        3.5321567e-02, 3.2957461e-02]], dtype=float32)"
            ]
          },
          "metadata": {},
          "execution_count": 50
        }
      ]
    },
    {
      "cell_type": "code",
      "source": [
        "print(classification_report(y_true=y_test.argmax(1), y_pred=y_test_predict.argmax(1)))"
      ],
      "metadata": {
        "id": "Cxf3FWuusV7z",
        "outputId": "b9afbaa1-6bbe-49ab-b09b-9307c068a7e4",
        "colab": {
          "base_uri": "https://localhost:8080/"
        }
      },
      "execution_count": null,
      "outputs": [
        {
          "output_type": "stream",
          "name": "stdout",
          "text": [
            "              precision    recall  f1-score   support\n",
            "\n",
            "           0       0.80      0.81      0.80      1000\n",
            "           1       0.97      0.94      0.96      1000\n",
            "           2       0.76      0.58      0.66      1000\n",
            "           3       0.84      0.84      0.84      1000\n",
            "           4       0.59      0.89      0.70      1000\n",
            "           5       0.94      0.89      0.92      1000\n",
            "           6       0.63      0.42      0.51      1000\n",
            "           7       0.89      0.92      0.90      1000\n",
            "           8       0.92      0.95      0.93      1000\n",
            "           9       0.91      0.94      0.93      1000\n",
            "\n",
            "    accuracy                           0.82     10000\n",
            "   macro avg       0.82      0.82      0.81     10000\n",
            "weighted avg       0.82      0.82      0.81     10000\n",
            "\n"
          ]
        }
      ]
    },
    {
      "cell_type": "code",
      "source": [
        "from sklearn.metrics import confusion_matrix"
      ],
      "metadata": {
        "id": "WXyYIbzrunAj"
      },
      "execution_count": null,
      "outputs": []
    },
    {
      "cell_type": "code",
      "source": [
        "cmatrix = confusion_matrix(y_true=y_test.argmax(1), y_pred=y_test_predict.argmax(1))"
      ],
      "metadata": {
        "id": "JFCiTRisuqDy"
      },
      "execution_count": null,
      "outputs": []
    },
    {
      "cell_type": "code",
      "source": [
        "print(cmatrix)"
      ],
      "metadata": {
        "id": "sNoDtM9WurbE",
        "outputId": "de91acce-b881-4f33-9b4e-a105ca92b1b3",
        "colab": {
          "base_uri": "https://localhost:8080/"
        }
      },
      "execution_count": null,
      "outputs": [
        {
          "output_type": "stream",
          "name": "stdout",
          "text": [
            "[[811   5  13  57   8   1  83   0  21   1]\n",
            " [  6 945  10  28   8   0   1   0   2   0]\n",
            " [ 16   4 584   8 299   1  74   0  14   0]\n",
            " [ 26  15   7 839  71   1  36   0   5   0]\n",
            " [  0   2  44  23 886   1  37   0   6   1]\n",
            " [  0   0   0   1   0 893   0  62   2  42]\n",
            " [157   4 102  40 237   2 422   0  36   0]\n",
            " [  0   0   0   0   0  33   0 919   0  48]\n",
            " [  2   1   7   8   5   6  15   6 950   0]\n",
            " [  0   0   0   0   0  12   0  46   1 941]]\n"
          ]
        }
      ]
    },
    {
      "cell_type": "code",
      "source": [
        "sns.heatmap(cmatrix, annot=True, fmt=\"d\")"
      ],
      "metadata": {
        "id": "F95dZ6s5uq5r",
        "outputId": "25325232-9469-4d96-bed8-7b138abab719",
        "colab": {
          "base_uri": "https://localhost:8080/",
          "height": 294
        }
      },
      "execution_count": null,
      "outputs": [
        {
          "output_type": "execute_result",
          "data": {
            "text/plain": [
              "<matplotlib.axes._subplots.AxesSubplot at 0x7f2dbeeb1090>"
            ]
          },
          "metadata": {},
          "execution_count": 46
        },
        {
          "output_type": "display_data",
          "data": {
            "text/plain": [
              "<Figure size 432x288 with 2 Axes>"
            ],
            "image/png": "[encoded data removed]"
          },
          "metadata": {
            "needs_background": "light"
          }
        }
      ]
    },
    {
      "cell_type": "code",
      "source": [
        "np.fill_diagonal(cmatrix, 0)\n",
        "sns.heatmap(cmatrix, annot=True, fmt=\"d\")"
      ],
      "metadata": {
        "id": "kwwa12guxQp8",
        "outputId": "7a029c39-7f5d-489c-e4f7-e8f0467c97e5",
        "colab": {
          "base_uri": "https://localhost:8080/",
          "height": 294
        }
      },
      "execution_count": null,
      "outputs": [
        {
          "output_type": "execute_result",
          "data": {
            "text/plain": [
              "<matplotlib.axes._subplots.AxesSubplot at 0x7f2dbfebe210>"
            ]
          },
          "metadata": {},
          "execution_count": 49
        },
        {
          "output_type": "display_data",
          "data": {
            "text/plain": [
              "<Figure size 432x288 with 2 Axes>"
            ],
            "image/png": "[encoded data removed]"
          },
          "metadata": {}
        }
      ]
    },
    {
      "cell_type": "markdown",
      "metadata": {
        "id": "JGYOOgiOgmVz"
      },
      "source": [
        "# Task 2: Dependence on Hyper-parameters\n",
        "\n",
        "Now, investigate the dependence of the neural network's performance on some hyper-parameters. In particular, you should investigate the dependence on the following:\n",
        "\n",
        "1. Number of hidden nodes\n",
        "2. The activation function\n",
        "3. Loss functions\n",
        "\n",
        "Discuss any interesting findings and insights."
      ]
    }
  ],
  "metadata": {
    "kernelspec": {
      "display_name": "Python 3",
      "language": "python",
      "name": "python3"
    },
    "language_info": {
      "codemirror_mode": {
        "name": "ipython",
        "version": 3
      },
      "file_extension": ".py",
      "mimetype": "text/x-python",
      "name": "python",
      "nbconvert_exporter": "python",
      "pygments_lexer": "ipython3",
      "version": "3.8.5"
    },
    "latex_envs": {
      "LaTeX_envs_menu_present": true,
      "autoclose": false,
      "autocomplete": true,
      "bibliofile": "biblio.bib",
      "cite_by": "apalike",
      "current_citInitial": 1,
      "eqLabelWithNumbers": true,
      "eqNumInitial": 1,
      "hotkeys": {
        "equation": "Ctrl-E",
        "itemize": "Ctrl-I"
      },
      "labels_anchors": false,
      "latex_user_defs": false,
      "report_style_numbering": false,
      "user_envs_cfg": false
    },
    "toc": {
      "base_numbering": 1,
      "nav_menu": {},
      "number_sections": true,
      "sideBar": true,
      "skip_h1_title": false,
      "title_cell": "Table of Contents",
      "title_sidebar": "Contents",
      "toc_cell": false,
      "toc_position": {
        "height": "calc(100% - 180px)",
        "left": "10px",
        "top": "150px",
        "width": "259.99px"
      },
      "toc_section_display": true,
      "toc_window_display": true
    },
    "colab": {
      "name": "“DSA5204_homework1.ipynb”的副本",
      "provenance": [],
      "collapsed_sections": [],
      "include_colab_link": true
    }
  },
  "nbformat": 4,
  "nbformat_minor": 0
}